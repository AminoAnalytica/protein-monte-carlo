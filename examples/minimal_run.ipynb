{
 "cells": [
  {
   "cell_type": "code",
   "execution_count": null,
   "metadata": {
    "vscode": {
     "languageId": "plaintext"
    }
   },
   "outputs": [],
   "source": [
    "\n",
    "from transformers import pipeline\n",
    "from protein_mc.core.monte_carlo import MonteCarlo\n"
   ]
  },
  {
   "cell_type": "code",
   "execution_count": null,
   "metadata": {
    "vscode": {
     "languageId": "plaintext"
    }
   },
   "outputs": [],
   "source": [
    "# Cell 2 – minimal demo\n",
    "pipe = pipeline(\"feature-extraction\",\n",
    "model=\"facebook/esm2_t6_8M_UR50D\", device=\"cpu\")\n",
    "mc = MonteCarlo(pipe, beta=0.5)\n",
    "wt = \"M\" * 50\n",
    "res = mc.run(wt, num_steps=20)\n",
    "print(\"Final seq:\", res.sequence)\n",
    "print(\"ΔE series:\", res.delta_E_history)\n"
   ]
  }
 ],
 "metadata": {
  "language_info": {
   "name": "python"
  }
 },
 "nbformat": 4,
 "nbformat_minor": 2
}
