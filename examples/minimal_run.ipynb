{
 "cells": [
  {
   "cell_type": "code",
   "execution_count": null,
   "metadata": {},
   "outputs": [],
   "source": [
    "\n",
    "from transformers import pipeline\n",
    "from protein_mc.core.monte_carlo import MonteCarlo\n"
   ]
  },
  {
   "cell_type": "code",
   "execution_count": null,
   "metadata": {},
   "outputs": [],
   "source": [
    "# Cell 2 – minimal demo\n",
    "pipe = pipeline(\"feature-extraction\",\n",
    "model=\"facebook/esm2_t6_8M_UR50D\", device=\"cpu\")\n",
    "mc = MonteCarlo(pipe, beta=0.5)\n",
    "wild_type = \"M\" * 50\n",
    "res = mc.run(wild_type, num_steps=20)\n",
    "print(\"Final seq:\", res.sequence)\n",
    "print(\"ΔE series:\", res.delta_E_history)\n"
   ]
  }
 ],
 "metadata": {
  "kernelspec": {
   "display_name": "protein-mc-env",
   "language": "python",
   "name": "python3"
  },
  "language_info": {
   "codemirror_mode": {
    "name": "ipython",
    "version": 3
   },
   "file_extension": ".py",
   "mimetype": "text/x-python",
   "name": "python",
   "nbconvert_exporter": "python",
   "pygments_lexer": "ipython3",
   "version": "3.9.22"
  }
 },
 "nbformat": 4,
 "nbformat_minor": 2
}
